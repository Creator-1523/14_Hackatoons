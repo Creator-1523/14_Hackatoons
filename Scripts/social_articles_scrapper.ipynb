{
 "cells": [
  {
   "cell_type": "code",
   "execution_count": 5,
   "id": "1f0d5387",
   "metadata": {},
   "outputs": [],
   "source": [
    "import requests\n",
    "import datetime\n",
    "import pandas as pd\n",
    "\n",
    "symbol_id_dict={}\n",
    "\n",
    "\n",
    "def live_social_status(symbol, symbol_id_dict={}):\n",
    "    if not symbol_id_dict:\n",
    "        symbol_id_dict = {\n",
    "            'BTC': 1182,\n",
    "            'ETH': 7605,\n",
    "            'LTC': 3808\n",
    "        }\n",
    "    symbol_id = symbol_id_dict[symbol.upper()]\n",
    "    url = 'https://www.cryptocompare.com/api/data/socialstats/?id={}'\\\n",
    "            .format(symbol_id)\n",
    "    page = requests.get(url)\n",
    "    data = page.json()['Data']\n",
    "    return data\n"
   ]
  },
  {
   "cell_type": "code",
   "execution_count": 6,
   "id": "e0742c40",
   "metadata": {},
   "outputs": [
    {
     "name": "stdout",
     "output_type": "stream",
     "text": [
      "{'General': {'Name': 'ETH', 'CoinName': 'Ethereum', 'Type': 'Webpagecoinp', 'Points': 5825103}, 'CryptoCompare': {'SimilarItems': [{'Id': 1182, 'Name': 'Bitcoin', 'FullName': 'Bitcoin (BTC)', 'ImageUrl': '/media/37746251/btc.png', 'Url': '/coins/btc/', 'FollowingType': 1}, {'Id': 5031, 'Name': 'XRP', 'FullName': 'XRP (XRP)', 'ImageUrl': '/media/38553096/xrp.png', 'Url': '/coins/xrp/', 'FollowingType': 1}, {'Id': 4432, 'Name': 'Dogecoin', 'FullName': 'Dogecoin (DOGE)', 'ImageUrl': '/media/37746339/doge.png', 'Url': '/coins/doge/', 'FollowingType': 1}, {'Id': 3808, 'Name': 'Litecoin', 'FullName': 'Litecoin (LTC)', 'ImageUrl': '/media/37746243/ltc.png', 'Url': '/coins/ltc/', 'FollowingType': 1}, {'Id': 204788, 'Name': 'Binance Coin', 'FullName': 'Binance Coin (BNB)', 'ImageUrl': '/media/37746880/bnb.png', 'Url': '/coins/bnb/', 'FollowingType': 1}, {'Id': 321992, 'Name': 'Cardano', 'FullName': 'Cardano (ADA)', 'ImageUrl': '/media/37746235/ada.png', 'Url': '/coins/ada/', 'FollowingType': 1}, {'Id': 936501, 'Name': 'DOTUP', 'FullName': 'DOTUP (DOTUP)', 'ImageUrl': '/media/9350818/binance.png', 'Url': '/coins/dotup/', 'FollowingType': 1}, {'Id': 127356, 'Name': 'IOTA', 'FullName': 'IOTA (MIOTA)', 'ImageUrl': '/media/38553696/miota.png', 'Url': '/coins/miota/', 'FollowingType': 1}, {'Id': 4614, 'Name': 'Stellar', 'FullName': 'Stellar (XLM)', 'ImageUrl': '/media/37746346/xlm.png', 'Url': '/coins/xlm/', 'FollowingType': 1}, {'Id': 202330, 'Name': 'Bitcoin Cash', 'FullName': 'Bitcoin Cash (BCH)', 'ImageUrl': '/media/37746245/bch.png', 'Url': '/coins/bch/', 'FollowingType': 1}], 'CryptopianFollowers': [], 'Followers': 89784, 'Posts': 37284, 'Points': 4107285, 'Comments': 93051, 'PageViewsSplit': {'Overview': 18738778, 'Markets': 736988, 'Analysis': 465439, 'Charts': 5619999, 'Trades': 419962, 'Orderbook': 81834, 'Forum': 4101018, 'Influence': 45034, 'News': 64373}, 'PageViews': 30273425}, 'Twitter': {'account_creation': '1390763724', 'followers': 2315074, 'statuses': 3299, 'link': 'https://twitter.com/ethereum', 'lists': 11650, 'favourites': '2182', 'following': '0', 'name': 'Ethereum', 'Points': 243160}, 'Reddit': {'posts_per_hour': '1.34', 'comments_per_hour': '21.84', 'comments_per_day': 524.27, 'active_users': 353, 'link': 'https://www.reddit.com/r/ethereum/', 'community_creation': '1387037735', 'posts_per_day': '32.12', 'name': 'ethereum', 'subscribers': 1258926, 'Points': 1261033}, 'Facebook': {'talking_about': '397', 'is_closed': 'false', 'likes': 148365, 'name': 'Ethereum', 'link': 'https://www.facebook.com/ethereumproject/', 'Points': 148365}, 'CodeRepository': {'List': [{'forks': 11834, 'last_update': '1631105500', 'open_total_issues': '370', 'subscribers': 2116, 'fork': 'false', 'closed_pull_issues': '6545', 'parent': {'Name': '', 'Url': '', 'InternalId': -1}, 'language': 'Go', 'open_pull_issues': '111', 'stars': 32217, 'closed_issues': '5588', 'url': 'https://github.com/ethereum/go-ethereum', 'contributors': '629', 'created_at': '1388063146', 'open_issues': '259', 'source': {'Name': '', 'Url': '', 'InternalId': -1}, 'closed_total_issues': '12133', 'size': '172796', 'last_push': '1631105338'}], 'Points': 62233}}\n"
     ]
    }
   ],
   "source": [
    "#symbol_id_dict = {symb: int(d['Id']) for symb, d in data.items()}\n",
    "Data=live_social_status(\"ETH\",symbol_id_dict)\n",
    "print(Data)"
   ]
  },
  {
   "cell_type": "code",
   "execution_count": null,
   "id": "d3278916",
   "metadata": {},
   "outputs": [],
   "source": []
  }
 ],
 "metadata": {
  "kernelspec": {
   "display_name": "Python 3 (ipykernel)",
   "language": "python",
   "name": "python3"
  },
  "language_info": {
   "codemirror_mode": {
    "name": "ipython",
    "version": 3
   },
   "file_extension": ".py",
   "mimetype": "text/x-python",
   "name": "python",
   "nbconvert_exporter": "python",
   "pygments_lexer": "ipython3",
   "version": "3.9.7"
  }
 },
 "nbformat": 4,
 "nbformat_minor": 5
}
